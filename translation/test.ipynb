{
 "cells": [
  {
   "cell_type": "code",
   "execution_count": 5,
   "metadata": {},
   "outputs": [
    {
     "name": "stdout",
     "output_type": "stream",
     "text": [
      "Processing folder: TsubasaNoKioku\n",
      "Processing folder: balloon_dream\n",
      "Processing folder: boureisougi\n",
      "Processing folder: rasetugari\n",
      "Processing folder: tencho_isoro\n",
      "Processing folder: tojime_no_siora\n",
      "Merged JSON saved to: /work/pi_miyyer_umass_edu/ctpham/cs670-manga/data/input/detection/merged.json\n"
     ]
    }
   ],
   "source": [
    "import os\n",
    "import json\n",
    "\n",
    "# Define the parent directory containing JSON folders\n",
    "input_dir = \"../data/input/detection/\"\n",
    "output_file = \"../data/input/detection/merged.json\"\n",
    "\n",
    "all_json = []\n",
    "\n",
    "# Iterate over the folders in the input directory\n",
    "for folder in os.listdir(input_dir):\n",
    "    folder_path = os.path.join(input_dir, folder)\n",
    "    \n",
    "    # Ensure it's a directory\n",
    "    if os.path.isdir(folder_path):\n",
    "        print(f\"Processing folder: {folder}\")\n",
    "        \n",
    "        # Iterate over the JSON files in the folder\n",
    "        for jf in os.listdir(folder_path):\n",
    "            json_file_path = os.path.join(folder_path, jf)\n",
    "            \n",
    "            # Ensure it's a file\n",
    "            if os.path.isfile(json_file_path) and jf.endswith(\".json\"):\n",
    "                try:\n",
    "                    with open(json_file_path, 'r') as json_file:\n",
    "                        data = json.load(json_file)\n",
    "                        \n",
    "                        # Update with absolute path if needed\n",
    "                        if isinstance(data, dict):\n",
    "                            data[\"absolute_path\"] = os.path.abspath(json_file_path)\n",
    "                        elif isinstance(data, list):\n",
    "                            for entry in data:\n",
    "                                if isinstance(entry, dict):\n",
    "                                    entry[\"absolute_path\"] = os.path.abspath(json_file_path)\n",
    "                        \n",
    "                        all_json.append(data)\n",
    "                except Exception as e:\n",
    "                    print(f\"Error processing file {json_file_path}: {e}\")\n",
    "\n",
    "# Save all merged JSON data into a single file\n",
    "try:\n",
    "    with open(output_file, \"w\") as out_file:\n",
    "        json.dump(all_json, out_file, indent=4)\n",
    "    print(f\"Merged JSON saved to: {os.path.abspath(output_file)}\")\n",
    "except Exception as e:\n",
    "    print(f\"Error saving merged JSON file: {e}\")\n"
   ]
  },
  {
   "cell_type": "code",
   "execution_count": 2,
   "metadata": {},
   "outputs": [
    {
     "name": "stdout",
     "output_type": "stream",
     "text": [
      "Updated JSON saved to: ../data/input/detection/updated_merged.json\n"
     ]
    }
   ],
   "source": [
    "import json\n",
    "\n",
    "# Define the input JSON file and the output JSON file\n",
    "input_json_file = \"../data/input/detection/merged.json\"\n",
    "output_json_file = \"../data/input/detection/updated_merged.json\"\n",
    "\n",
    "# Load the JSON data\n",
    "try:\n",
    "    with open(input_json_file, \"r\") as infile:\n",
    "        data = json.load(infile)\n",
    "except Exception as e:\n",
    "    print(f\"Error reading JSON file: {e}\")\n",
    "    exit()\n",
    "\n",
    "# Remove the 'path' field from each entry\n",
    "for entry in data:\n",
    "    if isinstance(entry, dict) and \"path\" in entry:\n",
    "        del entry[\"path\"]\n",
    "\n",
    "# Save the updated data back to a new JSON file\n",
    "try:\n",
    "    with open(output_json_file, \"w\") as outfile:\n",
    "        json.dump(data, outfile, indent=4)\n",
    "    print(f\"Updated JSON saved to: {output_json_file}\")\n",
    "except Exception as e:\n",
    "    print(f\"Error saving updated JSON file: {e}\")\n"
   ]
  },
  {
   "cell_type": "code",
   "execution_count": null,
   "metadata": {},
   "outputs": [],
   "source": []
  }
 ],
 "metadata": {
  "kernelspec": {
   "display_name": "manga",
   "language": "python",
   "name": "manga"
  },
  "language_info": {
   "codemirror_mode": {
    "name": "ipython",
    "version": 3
   },
   "file_extension": ".py",
   "mimetype": "text/x-python",
   "name": "python",
   "nbconvert_exporter": "python",
   "pygments_lexer": "ipython3",
   "version": "3.10.15"
  },
  "orig_nbformat": 4
 },
 "nbformat": 4,
 "nbformat_minor": 2
}
