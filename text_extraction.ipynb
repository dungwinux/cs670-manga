{
 "cells": [
  {
   "cell_type": "code",
   "execution_count": 1,
   "metadata": {},
   "outputs": [
    {
     "data": {
      "text/plain": [
       "True"
      ]
     },
     "execution_count": 1,
     "metadata": {},
     "output_type": "execute_result"
    }
   ],
   "source": [
    "import cv2\n",
    "\n",
    "# Load the image\n",
    "image = cv2.imread('examples/test/imgs/000.jpg')\n",
    "\n",
    "# Define the coordinates (x, y, width, height)\n",
    "x, y, w, h = 655, 103, 77, 253  # Example values\n",
    "cropped_image = image[y:y+h, x:x+w]\n",
    "\n",
    "# Save or display the cropped image\n",
    "cv2.imwrite('examples/test/out/000_cropped.jpg', cropped_image)"
   ]
  },
  {
   "cell_type": "code",
   "execution_count": 3,
   "metadata": {},
   "outputs": [
    {
     "name": "stdout",
     "output_type": "stream",
     "text": [
      "Extracted Text: 抑ぐ距\n",
      "\n",
      "26\n",
      "\n"
     ]
    }
   ],
   "source": [
    "import pytesseract\n",
    "from PIL import Image\n",
    "\n",
    "# Load the cropped image\n",
    "cropped_image = Image.open('examples/test/out/000_cropped.jpg')\n",
    "\n",
    "# Perform OCR\n",
    "text = pytesseract.image_to_string(cropped_image, lang=\"jpn\")\n",
    "\n",
    "print(\"Extracted Text:\", text)"
   ]
  },
  {
   "cell_type": "code",
   "execution_count": null,
   "metadata": {},
   "outputs": [],
   "source": [
    "from manga_ocr import MangaOcr\n",
    "\n",
    "mocr = MangaOcr()\n",
    "text = mocr('examples/test/out/000_cropped.jpg')"
   ]
  }
 ],
 "metadata": {
  "kernelspec": {
   "display_name": "manga",
   "language": "python",
   "name": "python3"
  },
  "language_info": {
   "codemirror_mode": {
    "name": "ipython",
    "version": 3
   },
   "file_extension": ".py",
   "mimetype": "text/x-python",
   "name": "python",
   "nbconvert_exporter": "python",
   "pygments_lexer": "ipython3",
   "version": "3.10.15"
  },
  "orig_nbformat": 4
 },
 "nbformat": 4,
 "nbformat_minor": 2
}
