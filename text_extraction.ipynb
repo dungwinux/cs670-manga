{
 "cells": [
  {
   "cell_type": "code",
   "execution_count": null,
   "metadata": {},
   "outputs": [],
   "source": [
    "import cv2\n",
    "\n",
    "# Load the image\n",
    "image = cv2.imread('examples/test/imgs/000.jpg')\n",
    "\n",
    "# Define the coordinates (x, y, width, height)\n",
    "x, y, w, h = 655, 103, 77, 253  # Example values\n",
    "cropped_image = image[y:y+h, x:x+w]\n",
    "\n",
    "# Save or display the cropped image\n",
    "cv2.imwrite('examples/test/out/000_cropped.jpg', cropped_image)"
   ]
  },
  {
   "cell_type": "code",
   "execution_count": null,
   "metadata": {},
   "outputs": [],
   "source": [
    "from manga_ocr import MangaOcr\n",
    "\n",
    "mocr = MangaOcr()\n",
    "text = mocr('examples/test/out/000_cropped.jpg')\n",
    "print(\"Detected Text:\", text)"
   ]
  },
  {
   "cell_type": "code",
   "execution_count": null,
   "metadata": {},
   "outputs": [],
   "source": []
  }
 ],
 "metadata": {
  "kernelspec": {
   "display_name": "manga",
   "language": "python",
   "name": "manga"
  },
  "language_info": {
   "codemirror_mode": {
    "name": "ipython",
    "version": 3
   },
   "file_extension": ".py",
   "mimetype": "text/x-python",
   "name": "python",
   "nbconvert_exporter": "python",
   "pygments_lexer": "ipython3",
   "version": "3.10.15"
  },
  "orig_nbformat": 4
 },
 "nbformat": 4,
 "nbformat_minor": 2
}
