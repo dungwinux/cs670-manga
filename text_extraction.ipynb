{
 "cells": [
  {
   "cell_type": "code",
   "execution_count": 1,
   "metadata": {},
   "outputs": [
    {
     "data": {
      "text/plain": [
       "True"
      ]
     },
     "execution_count": 1,
     "metadata": {},
     "output_type": "execute_result"
    }
   ],
   "source": [
    "import cv2\n",
    "\n",
    "# Load the image\n",
    "image = cv2.imread('examples/test/imgs/000.jpg')\n",
    "\n",
    "# Define the coordinates (x, y, width, height)\n",
    "x, y, w, h = 655, 103, 77, 253  # Example values\n",
    "cropped_image = image[y:y+h, x:x+w]\n",
    "\n",
    "# Save or display the cropped image\n",
    "cv2.imwrite('examples/test/out/000_cropped.jpg', cropped_image)"
   ]
  },
  {
   "cell_type": "code",
   "execution_count": 3,
   "metadata": {},
   "outputs": [
    {
     "ename": "ValueError",
     "evalue": "({'jpn'}, 'is not supported')",
     "output_type": "error",
     "traceback": [
      "\u001b[0;31m---------------------------------------------------------------------------\u001b[0m",
      "\u001b[0;31mValueError\u001b[0m                                Traceback (most recent call last)",
      "Cell \u001b[0;32mIn[3], line 4\u001b[0m\n\u001b[1;32m      1\u001b[0m \u001b[39mimport\u001b[39;00m \u001b[39measyocr\u001b[39;00m\n\u001b[1;32m      3\u001b[0m \u001b[39m# Initialize the reader\u001b[39;00m\n\u001b[0;32m----> 4\u001b[0m reader \u001b[39m=\u001b[39m easyocr\u001b[39m.\u001b[39;49mReader([\u001b[39m'\u001b[39;49m\u001b[39mjpn\u001b[39;49m\u001b[39m'\u001b[39;49m])\n\u001b[1;32m      6\u001b[0m \u001b[39m# Perform OCR\u001b[39;00m\n\u001b[1;32m      7\u001b[0m \n\u001b[1;32m      8\u001b[0m \u001b[39m# Print results\u001b[39;00m\n\u001b[1;32m      9\u001b[0m \u001b[39mfor\u001b[39;00m (bbox, text, confidence) \u001b[39min\u001b[39;00m results:\n",
      "File \u001b[0;32m/scratch/workspace/ctpham_umass_edu-llama/envs/manga/lib/python3.10/site-packages/easyocr/easyocr.py:109\u001b[0m, in \u001b[0;36mReader.__init__\u001b[0;34m(self, lang_list, gpu, model_storage_directory, user_network_directory, detect_network, recog_network, download_enabled, detector, recognizer, verbose, quantize, cudnn_benchmark)\u001b[0m\n\u001b[1;32m    107\u001b[0m unknown_lang \u001b[39m=\u001b[39m \u001b[39mset\u001b[39m(lang_list) \u001b[39m-\u001b[39m \u001b[39mset\u001b[39m(all_lang_list)\n\u001b[1;32m    108\u001b[0m \u001b[39mif\u001b[39;00m unknown_lang \u001b[39m!=\u001b[39m \u001b[39mset\u001b[39m():\n\u001b[0;32m--> 109\u001b[0m     \u001b[39mraise\u001b[39;00m \u001b[39mValueError\u001b[39;00m(unknown_lang, \u001b[39m'\u001b[39m\u001b[39mis not supported\u001b[39m\u001b[39m'\u001b[39m)\n\u001b[1;32m    110\u001b[0m \u001b[39m# choose recognition model\u001b[39;00m\n\u001b[1;32m    111\u001b[0m \u001b[39mif\u001b[39;00m lang_list \u001b[39m==\u001b[39m [\u001b[39m'\u001b[39m\u001b[39men\u001b[39m\u001b[39m'\u001b[39m]:\n",
      "\u001b[0;31mValueError\u001b[0m: ({'jpn'}, 'is not supported')"
     ]
    }
   ],
   "source": []
  },
  {
   "cell_type": "code",
   "execution_count": null,
   "metadata": {},
   "outputs": [],
   "source": []
  }
 ],
 "metadata": {
  "kernelspec": {
   "display_name": "manga",
   "language": "python",
   "name": "manga"
  },
  "language_info": {
   "codemirror_mode": {
    "name": "ipython",
    "version": 3
   },
   "file_extension": ".py",
   "mimetype": "text/x-python",
   "name": "python",
   "nbconvert_exporter": "python",
   "pygments_lexer": "ipython3",
   "version": "3.10.15"
  },
  "orig_nbformat": 4
 },
 "nbformat": 4,
 "nbformat_minor": 2
}
